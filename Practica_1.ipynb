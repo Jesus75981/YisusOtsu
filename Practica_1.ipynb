{
 "cells": [
  {
   "cell_type": "code",
   "execution_count": 8,
   "metadata": {},
   "outputs": [
    {
     "name": "stdout",
     "output_type": "stream",
     "text": [
      "Matar y Marta son anagramas.\n"
     ]
    }
   ],
   "source": [
    "def es_anagrama(palabra1, palabra2):\n",
    "    palabra1 = palabra1.replace(\" \", \"\").lower()\n",
    "    palabra2 = palabra2.replace(\" \", \"\").lower()\n",
    "    return sorted(palabra1) == sorted(palabra2)\n",
    "\n",
    "try:\n",
    "    palabra1 = input(\"Ingrese la primera palabra: \")\n",
    "    palabra2 = input(\"Ingrese la segunda palabra: \")\n",
    "\n",
    "    if es_anagrama(palabra1, palabra2):\n",
    "        print(f\"{palabra1} y {palabra2} son anagramas.\")\n",
    "    else:\n",
    "        print(f\"{palabra1} y {palabra2} no son anagramas.\")\n",
    "\n",
    "except ValueError:\n",
    "    print(\"Error: Por favor, ingrese palabras válidas.\")"
   ]
  },
  {
   "cell_type": "code",
   "execution_count": 7,
   "metadata": {},
   "outputs": [
    {
     "name": "stdout",
     "output_type": "stream",
     "text": [
      "\n",
      "Lista antes de ordenar: [15.0, 24.0, 2.0, 3.0, 5.0]\n",
      "Lista después de ordenar: [2.0, 3.0, 5.0, 15.0, 24.0]\n"
     ]
    }
   ],
   "source": [
    "def ordenar_burbuja(lista):\n",
    "    n = len(lista)\n",
    "    for i in range(n - 1):\n",
    "        for j in range(0, n - i - 1):\n",
    "            if lista[j] > lista[j + 1]:\n",
    "                lista[j], lista[j + 1] = lista[j + 1], lista[j]\n",
    "\n",
    "try:\n",
    "    numeros = [float(input(f\"Ingrese el número #{i + 1}: \")) for i in range(5)]\n",
    "\n",
    "    print(\"\\nLista antes de ordenar:\", numeros)\n",
    "\n",
    "    ordenar_burbuja(numeros)\n",
    "\n",
    "    print(\"Lista después de ordenar:\", numeros)\n",
    "\n",
    "except ValueError:\n",
    "    print(\"Error: Por favor, ingrese números válidos.\")"
   ]
  },
  {
   "cell_type": "code",
   "execution_count": 6,
   "metadata": {},
   "outputs": [
    {
     "name": "stdout",
     "output_type": "stream",
     "text": [
      "\n",
      "El número que más se repite es 5.0 con 3 repeticiones.\n"
     ]
    }
   ],
   "source": [
    "try:\n",
    "    numeros = [float(input(f\"Ingrese el número #{i + 1}: \")) for i in range(7)]\n",
    "\n",
    "    numero_mas_repetido = None\n",
    "    frecuencia_maxima = 0\n",
    "\n",
    "    for numero in set(numeros):\n",
    "        frecuencia = numeros.count(numero)\n",
    "        if frecuencia > frecuencia_maxima:\n",
    "            frecuencia_maxima = frecuencia\n",
    "            numero_mas_repetido = numero\n",
    "\n",
    "    if numero_mas_repetido is not None:\n",
    "        print(f\"\\nEl número que más se repite es {numero_mas_repetido} con {frecuencia_maxima} repeticiones.\")\n",
    "    else:\n",
    "        print(\"Todos los números son diferentes.\")\n",
    "\n",
    "except ValueError:\n",
    "    print(\"Error: Por favor, ingrese números válidos.\")"
   ]
  },
  {
   "cell_type": "code",
   "execution_count": 5,
   "metadata": {},
   "outputs": [
    {
     "name": "stdout",
     "output_type": "stream",
     "text": [
      "\n",
      "El número máximo es: 25.0\n",
      "El número mínimo es: 6.0\n"
     ]
    }
   ],
   "source": [
    "\n",
    "try:\n",
    "    limite = int(input(\"Ingrese el límite de números (no menor a 3): \"))\n",
    "    if limite < 3:\n",
    "        print(\"Error: El límite debe ser igual o mayor a 3.\")\n",
    "    else:\n",
    "        numero = float(input(\"Ingrese el primer número: \"))\n",
    "        maximo = numero\n",
    "        minimo = numero\n",
    "\n",
    "        for _ in range(limite - 1):\n",
    "            numero = float(input(\"Ingrese otro número: \"))\n",
    "            if numero > maximo:\n",
    "                maximo = numero\n",
    "            elif numero < minimo:\n",
    "                minimo = numero\n",
    "\n",
    "        print(f\"\\nEl número máximo es: {maximo}\")\n",
    "        print(f\"El número mínimo es: {minimo}\")\n",
    "\n",
    "except ValueError:\n",
    "    print(\"Error: Por favor, ingrese un límite válido y números válidos.\")"
   ]
  },
  {
   "cell_type": "code",
   "execution_count": 2,
   "metadata": {},
   "outputs": [
    {
     "name": "stdout",
     "output_type": "stream",
     "text": [
      "15 no es un número primo.\n"
     ]
    }
   ],
   "source": [
    "def es_primo(numero):\n",
    "    if numero < 2:\n",
    "        return False\n",
    "    for i in range(2, int(numero**0.5) + 1):\n",
    "        if numero % i == 0:\n",
    "            return False\n",
    "    return True\n",
    "\n",
    "try:\n",
    "    num = int(input(\"Ingrese un número para verificar si es primo: \"))\n",
    "    if es_primo(num):\n",
    "        print(f\"{num} es un número primo.\")\n",
    "    else:\n",
    "        print(f\"{num} no es un número primo.\")\n",
    "except ValueError:\n",
    "    print(\"Error: Por favor, ingrese un número entero válido.\")"
   ]
  },
  {
   "cell_type": "code",
   "execution_count": 1,
   "metadata": {},
   "outputs": [
    {
     "name": "stdout",
     "output_type": "stream",
     "text": [
      "El factorial de 23 es: 25852016738884976640000\n"
     ]
    }
   ],
   "source": [
    "def calcular_factorial(numero):\n",
    "    if numero < 0:\n",
    "        return \"Error: El factorial no está definido para números negativos.\"\n",
    "    elif numero == 0 or numero == 1:\n",
    "        return 1\n",
    "    else:\n",
    "        factorial = 1\n",
    "        for i in range(2, numero + 1):\n",
    "            factorial *= i\n",
    "        return factorial\n",
    "\n",
    "try:\n",
    "    num = int(input(\"Ingrese un número entero para calcular su factorial: \"))\n",
    "    resultado = calcular_factorial(num)\n",
    "    print(f\"El factorial de {num} es: {resultado}\")\n",
    "except ValueError:\n",
    "    print(\"Error: Por favor, ingrese un número entero válido.\")"
   ]
  }
 ],
 "metadata": {
  "kernelspec": {
   "display_name": "Python 3",
   "language": "python",
   "name": "python3"
  },
  "language_info": {
   "codemirror_mode": {
    "name": "ipython",
    "version": 3
   },
   "file_extension": ".py",
   "mimetype": "text/x-python",
   "name": "python",
   "nbconvert_exporter": "python",
   "pygments_lexer": "ipython3",
   "version": "3.12.2"
  }
 },
 "nbformat": 4,
 "nbformat_minor": 2
}
