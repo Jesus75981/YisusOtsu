{
 "cells": [
  {
   "cell_type": "markdown",
   "metadata": {},
   "source": [
    "Realizar un ejercicio que calcule el area y perimetro de una figura con datos introducidos por teclado \n",
    "Realizar un codigo en python que permita introduzca palabras por teclado identifique sus vocales y las convierta en mayuscula"
   ]
  },
  {
   "cell_type": "code",
   "execution_count": null,
   "metadata": {},
   "outputs": [],
   "source": []
  },
  {
   "cell_type": "code",
   "execution_count": null,
   "metadata": {},
   "outputs": [],
   "source": []
  },
  {
   "cell_type": "code",
   "execution_count": null,
   "metadata": {},
   "outputs": [],
   "source": []
  },
  {
   "cell_type": "code",
   "execution_count": null,
   "metadata": {},
   "outputs": [],
   "source": []
  },
  {
   "cell_type": "code",
   "execution_count": null,
   "metadata": {},
   "outputs": [],
   "source": []
  },
  {
   "cell_type": "code",
   "execution_count": null,
   "metadata": {},
   "outputs": [],
   "source": []
  },
  {
   "cell_type": "code",
   "execution_count": 2,
   "metadata": {},
   "outputs": [],
   "source": [
    "\n",
    "palabra = input(\"Ingrese una palabra: real madrid \")\n",
    "\n",
    "resultado = \"\"\n",
    "\n",
    "\n",
    "for letra in palabra:\n",
    "    \n",
    "    if letra.lower() in 'aeiou':\n",
    "        \n",
    "        resultado += letra.upper()\n",
    "    else:\n",
    "        \n",
    "        resultado += letra\n",
    "\n",
    "# Mostrar el resultado\n",
    "print(\"Palabra con vocales en mayúscula:\", resultado)\n"
   ]
  },
  {
   "cell_type": "code",
   "execution_count": 3,
   "metadata": {},
   "outputs": [],
   "source": [
    "a=input (\"Introduzca una palabra\")\n",
    "b=int (input(\"Cantidad de veces de repeticion\"))\n",
    "print ((a+\"\")*b)\n"
   ]
  },
  {
   "cell_type": "code",
   "execution_count": 2,
   "metadata": {},
   "outputs": [
    {
     "name": "stdout",
     "output_type": "stream",
     "text": [
      "Error: Por favor, ingrese valores numéricos válidos.\n"
     ]
    }
   ],
   "source": [
    "\n",
    "\n",
    "\n",
    "try:\n",
    "    base = float(input(\"Ingrese la longitud de la base del rectángulo: \"))\n",
    "    altura = float(input(\"Ingrese la altura del rectángulo: \"))\n",
    "\n",
    "\n",
    "    area = base * altura\n",
    "    perimetro = 2 * (base + altura)\n",
    "\n",
    "   \n",
    "    print(f\"El área del rectángulo es: {area}\")\n",
    "    print(f\"El perímetro del rectángulo es: {perimetro}\")\n",
    "\n",
    "except ValueError:\n",
    "    print(\"Error: Por favor, ingrese valores numéricos válidos.\")\n",
    "\n",
    "\n"
   ]
  },
  {
   "cell_type": "code",
   "execution_count": 1,
   "metadata": {},
   "outputs": [
    {
     "name": "stdout",
     "output_type": "stream",
     "text": [
      "hola\n",
      "hola\n",
      "hola\n",
      "hola\n",
      "Sumatoria: 6\n"
     ]
    },
    {
     "data": {
      "text/plain": [
       "0"
      ]
     },
     "execution_count": 1,
     "metadata": {},
     "output_type": "execute_result"
    }
   ],
   "source": [
    "total_sum = 0  \n",
    "\n",
    "for i in range(4):\n",
    "    print(\"hola\")\n",
    "  \n",
    "    total_sum += i\n",
    "\n",
    "print(\"Sumatoria:\", total_sum)\n",
    "\n",
    "\n",
    "sum =2+3\n",
    "a=18%5\n",
    "abs (-7)\n",
    "float(9)\n",
    "int()"
   ]
  }
 ],
 "metadata": {
  "kernelspec": {
   "display_name": "Python 3",
   "language": "python",
   "name": "python3"
  },
  "language_info": {
   "codemirror_mode": {
    "name": "ipython",
    "version": 3
   },
   "file_extension": ".py",
   "mimetype": "text/x-python",
   "name": "python",
   "nbconvert_exporter": "python",
   "pygments_lexer": "ipython3",
   "version": "3.12.2"
  }
 },
 "nbformat": 4,
 "nbformat_minor": 2
}
